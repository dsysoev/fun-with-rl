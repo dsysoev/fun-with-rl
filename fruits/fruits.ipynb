{
 "cells": [
  {
   "cell_type": "markdown",
   "metadata": {},
   "source": [
    "# Let's play"
   ]
  },
  {
   "cell_type": "code",
   "execution_count": null,
   "metadata": {},
   "outputs": [],
   "source": [
    "import random\n",
    "import numpy as np\n",
    "\n",
    "from environment import fruit_collection\n",
    "\n",
    "fruit_collection.test('mini', True, True, False, rng=np.random.RandomState(random.randint(0, 10000)))"
   ]
  },
  {
   "cell_type": "markdown",
   "metadata": {},
   "source": [
    "# Fit Agent"
   ]
  },
  {
   "cell_type": "code",
   "execution_count": 1,
   "metadata": {
    "scrolled": true
   },
   "outputs": [
    {
     "name": "stdout",
     "output_type": "stream",
     "text": [
      "pygame 1.9.6\n",
      "Hello from the pygame community. https://www.pygame.org/contribute.html\n",
      "# game 0 mean reward = -4.00 std reward = 6.00\n",
      "# game 100 mean reward = -5.09 std reward = 5.15\n",
      "# game 200 mean reward = -5.12 std reward = 5.33\n",
      "# game 300 mean reward = -5.81 std reward = 5.05\n",
      "# game 400 mean reward = -4.86 std reward = 5.24\n",
      "# game 500 mean reward = -4.84 std reward = 5.28\n",
      "# game 600 mean reward = -4.69 std reward = 5.08\n",
      "# game 700 mean reward = -4.69 std reward = 5.28\n",
      "# game 800 mean reward = -5.83 std reward = 4.99\n",
      "# game 900 mean reward = -4.62 std reward = 5.27\n",
      "# game 1000 mean reward = -5.60 std reward = 5.04\n",
      "# game 1100 mean reward = -4.01 std reward = 5.25\n",
      "# game 1200 mean reward = -4.42 std reward = 5.25\n",
      "# game 1300 mean reward = -4.98 std reward = 5.31\n",
      "# game 1400 mean reward = -4.66 std reward = 5.34\n",
      "# game 1500 mean reward = -4.72 std reward = 5.23\n",
      "# game 1600 mean reward = -4.34 std reward = 5.28\n",
      "# game 1700 mean reward = -4.99 std reward = 5.30\n",
      "# game 1800 mean reward = -5.03 std reward = 5.29\n",
      "# game 1900 mean reward = -3.61 std reward = 5.28\n",
      "# game 2000 mean reward = -4.45 std reward = 5.23\n",
      "# game 2100 mean reward = -4.14 std reward = 5.15\n",
      "# game 2200 mean reward = -4.19 std reward = 5.27\n",
      "# game 2300 mean reward = -4.23 std reward = 5.33\n",
      "# game 2400 mean reward = -3.84 std reward = 5.38\n",
      "# game 2500 mean reward = -4.49 std reward = 5.35\n",
      "# game 2600 mean reward = -3.84 std reward = 5.34\n",
      "# game 2700 mean reward = -4.28 std reward = 5.31\n",
      "# game 2800 mean reward = -3.61 std reward = 5.26\n",
      "# game 2900 mean reward = -3.59 std reward = 5.26\n",
      "# game 3000 mean reward = -4.16 std reward = 5.24\n",
      "# game 3100 mean reward = -2.74 std reward = 5.15\n",
      "# game 3200 mean reward = -3.85 std reward = 5.19\n",
      "# game 3300 mean reward = -3.32 std reward = 5.28\n",
      "# game 3400 mean reward = -3.12 std reward = 5.27\n",
      "# game 3500 mean reward = -3.51 std reward = 5.16\n",
      "# game 3600 mean reward = -2.92 std reward = 5.30\n",
      "# game 3700 mean reward = -3.87 std reward = 5.26\n",
      "# game 3800 mean reward = -3.66 std reward = 5.26\n",
      "# game 3900 mean reward = -2.86 std reward = 5.09\n",
      "# game 4000 mean reward = -3.12 std reward = 5.26\n",
      "# game 4100 mean reward = -2.45 std reward = 5.11\n",
      "# game 4200 mean reward = -2.02 std reward = 4.87\n",
      "# game 4300 mean reward = -3.07 std reward = 5.19\n",
      "# game 4400 mean reward = -2.53 std reward = 5.06\n",
      "# game 4500 mean reward = -2.44 std reward = 5.13\n",
      "# game 4600 mean reward = -2.13 std reward = 5.14\n",
      "# game 4700 mean reward = -1.84 std reward = 4.87\n",
      "# game 4800 mean reward = -2.15 std reward = 4.95\n",
      "# game 4900 mean reward = -1.73 std reward = 4.85\n",
      "# game 5000 mean reward = -2.23 std reward = 5.08\n",
      "# game 5100 mean reward = -0.79 std reward = 4.27\n",
      "# game 5200 mean reward = -2.95 std reward = 5.36\n",
      "# game 5300 mean reward = -2.31 std reward = 5.11\n",
      "# game 5400 mean reward = -1.45 std reward = 4.83\n",
      "# game 5500 mean reward = -1.53 std reward = 4.84\n",
      "# game 5600 mean reward = -1.57 std reward = 4.98\n",
      "# game 5700 mean reward = -2.03 std reward = 5.09\n",
      "# game 5800 mean reward = -0.44 std reward = 4.26\n",
      "# game 5900 mean reward = -1.10 std reward = 4.55\n",
      "# game 6000 mean reward = -0.93 std reward = 4.56\n",
      "# game 6100 mean reward = -0.97 std reward = 4.50\n",
      "# game 6200 mean reward = -0.40 std reward = 4.20\n",
      "# game 6300 mean reward = -1.46 std reward = 4.81\n",
      "# game 6400 mean reward = -1.88 std reward = 5.11\n",
      "# game 6500 mean reward = -0.56 std reward = 4.38\n",
      "# game 6600 mean reward = -0.36 std reward = 4.27\n",
      "# game 6700 mean reward = -0.51 std reward = 4.33\n",
      "# game 6800 mean reward = -0.53 std reward = 4.26\n",
      "# game 6900 mean reward = 0.16 std reward = 3.79\n",
      "# game 7000 mean reward = -0.90 std reward = 4.54\n",
      "# game 7100 mean reward = -0.49 std reward = 4.39\n",
      "# game 7200 mean reward = -0.87 std reward = 4.69\n",
      "# game 7300 mean reward = -0.69 std reward = 4.52\n",
      "# game 7400 mean reward = -0.68 std reward = 4.57\n",
      "# game 7500 mean reward = 0.21 std reward = 3.69\n",
      "# game 7600 mean reward = 0.27 std reward = 3.71\n",
      "# game 7700 mean reward = 0.04 std reward = 3.94\n",
      "# game 7800 mean reward = -0.01 std reward = 3.93\n",
      "# game 7900 mean reward = 0.52 std reward = 3.42\n",
      "# game 8000 mean reward = -0.67 std reward = 4.55\n",
      "# game 8100 mean reward = 0.41 std reward = 3.54\n",
      "# game 8200 mean reward = 0.52 std reward = 3.54\n",
      "# game 8300 mean reward = -0.19 std reward = 4.13\n",
      "# game 8400 mean reward = -0.09 std reward = 4.06\n",
      "# game 8500 mean reward = 0.17 std reward = 3.90\n",
      "# game 8600 mean reward = 0.20 std reward = 3.84\n",
      "# game 8700 mean reward = 0.66 std reward = 3.29\n",
      "# game 8800 mean reward = 0.80 std reward = 3.06\n",
      "# game 8900 mean reward = 0.55 std reward = 3.34\n",
      "# game 9000 mean reward = 0.84 std reward = 3.19\n",
      "# game 9100 mean reward = 0.63 std reward = 3.32\n",
      "# game 9200 mean reward = 0.96 std reward = 2.90\n",
      "# game 9300 mean reward = 0.76 std reward = 3.31\n",
      "# game 9400 mean reward = 1.03 std reward = 2.95\n",
      "# game 9500 mean reward = 1.08 std reward = 2.91\n",
      "# game 9600 mean reward = 1.08 std reward = 2.87\n",
      "# game 9700 mean reward = 1.04 std reward = 2.87\n",
      "# game 9800 mean reward = 0.49 std reward = 3.60\n",
      "# game 9900 mean reward = 1.33 std reward = 2.53\n",
      "# game 10000 mean reward = 0.50 std reward = 3.72\n",
      "# game 10100 mean reward = 1.05 std reward = 2.90\n",
      "# game 10200 mean reward = 1.39 std reward = 2.27\n",
      "# game 10300 mean reward = 0.86 std reward = 3.30\n",
      "# game 10400 mean reward = 0.88 std reward = 3.23\n",
      "# game 10500 mean reward = 0.97 std reward = 3.04\n",
      "# game 10600 mean reward = 1.61 std reward = 1.89\n",
      "# game 10700 mean reward = 1.14 std reward = 2.70\n",
      "# game 10800 mean reward = 1.24 std reward = 2.62\n",
      "# game 10900 mean reward = 1.48 std reward = 2.16\n",
      "# game 11000 mean reward = 1.22 std reward = 2.66\n",
      "# game 11100 mean reward = 1.00 std reward = 3.05\n",
      "# game 11200 mean reward = 1.22 std reward = 2.73\n",
      "# game 11300 mean reward = 1.33 std reward = 2.49\n",
      "# game 11400 mean reward = 1.77 std reward = 1.14\n",
      "# game 11500 mean reward = 0.88 std reward = 3.17\n",
      "# game 11600 mean reward = 0.95 std reward = 3.07\n",
      "# game 11700 mean reward = 1.01 std reward = 3.08\n",
      "# game 11800 mean reward = 1.69 std reward = 1.64\n",
      "# game 11900 mean reward = 1.39 std reward = 2.22\n",
      "# game 12000 mean reward = 1.51 std reward = 2.21\n",
      "# game 12100 mean reward = 1.46 std reward = 2.26\n",
      "# game 12200 mean reward = 1.48 std reward = 2.26\n",
      "# game 12300 mean reward = 1.74 std reward = 1.55\n",
      "# game 12400 mean reward = 1.52 std reward = 2.21\n",
      "# game 12500 mean reward = 1.49 std reward = 2.26\n",
      "# game 12600 mean reward = 1.29 std reward = 2.54\n",
      "# game 12700 mean reward = 1.71 std reward = 1.55\n",
      "# game 12800 mean reward = 1.36 std reward = 2.44\n",
      "# game 12900 mean reward = 0.83 std reward = 3.42\n",
      "# game 13000 mean reward = 1.24 std reward = 2.69\n",
      "# game 13100 mean reward = 1.29 std reward = 2.54\n",
      "# game 13200 mean reward = 1.68 std reward = 1.57\n",
      "# game 13300 mean reward = 1.50 std reward = 2.22\n",
      "# game 13400 mean reward = 1.69 std reward = 1.64\n",
      "# game 13500 mean reward = 1.40 std reward = 2.40\n",
      "# game 13600 mean reward = 1.71 std reward = 1.70\n",
      "# game 13700 mean reward = 1.74 std reward = 1.55\n",
      "# game 13800 mean reward = 1.83 std reward = 1.22\n",
      "# game 13900 mean reward = 1.90 std reward = 0.39\n",
      "# game 14000 mean reward = 1.60 std reward = 1.94\n",
      "# game 14100 mean reward = 1.83 std reward = 1.11\n",
      "# game 14200 mean reward = 1.68 std reward = 1.64\n",
      "# game 14300 mean reward = 1.70 std reward = 1.70\n",
      "# game 14400 mean reward = 1.86 std reward = 1.21\n",
      "# game 14500 mean reward = 1.82 std reward = 1.22\n",
      "# game 14600 mean reward = 1.87 std reward = 1.11\n",
      "# game 14700 mean reward = 1.68 std reward = 1.71\n",
      "# game 14800 mean reward = 1.77 std reward = 1.54\n",
      "# game 14900 mean reward = 1.97 std reward = 0.22\n",
      "# game 15000 mean reward = 1.65 std reward = 1.94\n",
      "# game 15100 mean reward = 1.88 std reward = 1.10\n",
      "# game 15200 mean reward = 1.48 std reward = 2.21\n",
      "# game 15300 mean reward = 1.95 std reward = 0.22\n",
      "# game 15400 mean reward = 1.85 std reward = 1.13\n",
      "# game 15500 mean reward = 1.97 std reward = 0.22\n",
      "# game 15600 mean reward = 1.93 std reward = 0.35\n",
      "# game 15700 mean reward = 1.86 std reward = 1.10\n",
      "# game 15800 mean reward = 1.86 std reward = 1.10\n",
      "# game 15900 mean reward = 1.87 std reward = 1.10\n",
      "# game 16000 mean reward = 1.62 std reward = 2.00\n",
      "# game 16100 mean reward = 2.00 std reward = 0.00\n",
      "# game 16200 mean reward = 1.73 std reward = 1.62\n"
     ]
    },
    {
     "name": "stdout",
     "output_type": "stream",
     "text": [
      "# game 16300 mean reward = 1.97 std reward = 0.22\n",
      "# game 16400 mean reward = 1.99 std reward = 0.10\n",
      "# game 16500 mean reward = 1.83 std reward = 1.22\n",
      "# game 16600 mean reward = 1.87 std reward = 1.11\n",
      "# game 16700 mean reward = 1.98 std reward = 0.20\n",
      "# game 16800 mean reward = 1.99 std reward = 0.10\n",
      "# game 16900 mean reward = 1.94 std reward = 0.31\n",
      "# game 17000 mean reward = 2.00 std reward = 0.00\n",
      "# game 17100 mean reward = 1.88 std reward = 1.19\n",
      "# game 17200 mean reward = 1.86 std reward = 1.11\n",
      "# game 17300 mean reward = 1.99 std reward = 0.10\n",
      "# game 17400 mean reward = 1.98 std reward = 0.20\n",
      "# game 17500 mean reward = 1.86 std reward = 1.11\n",
      "# game 17600 mean reward = 1.73 std reward = 1.63\n",
      "# game 17700 mean reward = 1.98 std reward = 0.20\n",
      "# game 17800 mean reward = 1.81 std reward = 1.24\n",
      "# game 17900 mean reward = 1.84 std reward = 1.13\n",
      "# game 18000 mean reward = 2.00 std reward = 0.00\n",
      "# game 18100 mean reward = 1.64 std reward = 1.99\n",
      "# game 18200 mean reward = 1.98 std reward = 0.20\n",
      "# game 18300 mean reward = 1.90 std reward = 0.44\n",
      "# game 18400 mean reward = 1.77 std reward = 1.61\n",
      "# game 18500 mean reward = 1.96 std reward = 0.28\n",
      "# game 18600 mean reward = 1.85 std reward = 1.13\n",
      "# game 18700 mean reward = 1.95 std reward = 0.30\n",
      "# game 18800 mean reward = 1.96 std reward = 0.24\n",
      "# game 18900 mean reward = 1.98 std reward = 0.20\n",
      "# game 19000 mean reward = 1.97 std reward = 0.22\n",
      "# game 19100 mean reward = 1.74 std reward = 1.62\n",
      "# game 19200 mean reward = 1.87 std reward = 1.11\n",
      "# game 19300 mean reward = 2.00 std reward = 0.00\n",
      "# game 19400 mean reward = 1.89 std reward = 1.09\n",
      "# game 19500 mean reward = 1.98 std reward = 0.20\n",
      "# game 19600 mean reward = 1.87 std reward = 1.10\n",
      "# game 19700 mean reward = 1.98 std reward = 0.14\n",
      "# game 19800 mean reward = 1.98 std reward = 0.20\n",
      "# game 19900 mean reward = 1.98 std reward = 0.20\n"
     ]
    }
   ],
   "source": [
    "from environment import fruit_collection\n",
    "\n",
    "from tabular import ai\n",
    "from tabular import experiment\n",
    "\n",
    "env = fruit_collection.FruitCollectionMini(\n",
    "    rendering=False, lives=1, game_length=300, image_saving=False)\n",
    "\n",
    "agent = ai.SarsaAgent(\n",
    "        alpha=0.01,\n",
    "        epsilon=0.95,\n",
    "        gamma=0.99,\n",
    "        legal_actions=[0, 1, 2, 3],\n",
    "        strategy='mean'\n",
    "    )\n",
    "\n",
    "agent, reward_data = experiment.train(env, agent, max_gamestep=300, num_games=20000, verbose=True)"
   ]
  },
  {
   "cell_type": "markdown",
   "metadata": {},
   "source": [
    "# Plot Reward"
   ]
  },
  {
   "cell_type": "code",
   "execution_count": 3,
   "metadata": {},
   "outputs": [
    {
     "data": {
      "text/html": [
       "<div>\n",
       "<style scoped>\n",
       "    .dataframe tbody tr th:only-of-type {\n",
       "        vertical-align: middle;\n",
       "    }\n",
       "\n",
       "    .dataframe tbody tr th {\n",
       "        vertical-align: top;\n",
       "    }\n",
       "\n",
       "    .dataframe thead th {\n",
       "        text-align: right;\n",
       "    }\n",
       "</style>\n",
       "<table border=\"1\" class=\"dataframe\">\n",
       "  <thead>\n",
       "    <tr style=\"text-align: right;\">\n",
       "      <th></th>\n",
       "      <th>reward</th>\n",
       "      <th># game</th>\n",
       "    </tr>\n",
       "  </thead>\n",
       "  <tbody>\n",
       "    <tr>\n",
       "      <th>19995</th>\n",
       "      <td>2.0</td>\n",
       "      <td>20000</td>\n",
       "    </tr>\n",
       "    <tr>\n",
       "      <th>19996</th>\n",
       "      <td>2.0</td>\n",
       "      <td>20000</td>\n",
       "    </tr>\n",
       "    <tr>\n",
       "      <th>19997</th>\n",
       "      <td>2.0</td>\n",
       "      <td>20000</td>\n",
       "    </tr>\n",
       "    <tr>\n",
       "      <th>19998</th>\n",
       "      <td>2.0</td>\n",
       "      <td>20000</td>\n",
       "    </tr>\n",
       "    <tr>\n",
       "      <th>19999</th>\n",
       "      <td>2.0</td>\n",
       "      <td>20000</td>\n",
       "    </tr>\n",
       "  </tbody>\n",
       "</table>\n",
       "</div>"
      ],
      "text/plain": [
       "       reward  # game\n",
       "19995     2.0   20000\n",
       "19996     2.0   20000\n",
       "19997     2.0   20000\n",
       "19998     2.0   20000\n",
       "19999     2.0   20000"
      ]
     },
     "execution_count": 3,
     "metadata": {},
     "output_type": "execute_result"
    }
   ],
   "source": [
    "import pandas as pd\n",
    "\n",
    "df_reward = pd.Series(reward_data).to_frame()\n",
    "df_reward.columns = ['reward']\n",
    "df_reward['# game'] = ((df_reward.index.map(int) // 100 + 1) * 100).values\n",
    "df_reward.tail()"
   ]
  },
  {
   "cell_type": "code",
   "execution_count": 4,
   "metadata": {},
   "outputs": [
    {
     "data": {
      "image/png": "[encoded data removed]",
      "text/plain": [
       "<Figure size 720x432 with 1 Axes>"
      ]
     },
     "metadata": {},
     "output_type": "display_data"
    }
   ],
   "source": [
    "%matplotlib inline\n",
    "\n",
    "import matplotlib.pyplot as plt\n",
    "import seaborn as sns\n",
    "\n",
    "sns.set_style('white')\n",
    "\n",
    "fig, ax = plt.subplots(figsize=(10, 6))\n",
    "ax = sns.lineplot(data=df_reward, x='# game', y='reward', n_boot=100, ax=ax)\n",
    "plt.show()"
   ]
  },
  {
   "cell_type": "markdown",
   "metadata": {},
   "source": [
    "# save agent"
   ]
  },
  {
   "cell_type": "code",
   "execution_count": 5,
   "metadata": {},
   "outputs": [],
   "source": [
    "import pickle\n",
    "\n",
    "with open(\"agent.pkl\", 'wb') as f:\n",
    "    pickle.dump(agent, f, pickle.HIGHEST_PROTOCOL)"
   ]
  },
  {
   "cell_type": "markdown",
   "metadata": {},
   "source": [
    "# load agent"
   ]
  },
  {
   "cell_type": "code",
   "execution_count": null,
   "metadata": {},
   "outputs": [],
   "source": [
    "import pickle\n",
    "\n",
    "with open('agent.pkl', 'rb') as f:\n",
    "    agent = pickle.load(f)"
   ]
  },
  {
   "cell_type": "markdown",
   "metadata": {},
   "source": [
    "# test agent"
   ]
  },
  {
   "cell_type": "code",
   "execution_count": 7,
   "metadata": {},
   "outputs": [],
   "source": [
    "import random\n",
    "import numpy as np\n",
    "\n",
    "from environment import fruit_collection\n",
    "\n",
    "fruit_collection.test_agent('mini', True, True, False, agent, np.random.RandomState(random.randint(0, 10000)))"
   ]
  },
  {
   "cell_type": "code",
   "execution_count": null,
   "metadata": {},
   "outputs": [],
   "source": []
  }
 ],
 "metadata": {
  "kernelspec": {
   "display_name": "Python 3",
   "language": "python",
   "name": "python3"
  },
  "language_info": {
   "codemirror_mode": {
    "name": "ipython",
    "version": 3
   },
   "file_extension": ".py",
   "mimetype": "text/x-python",
   "name": "python",
   "nbconvert_exporter": "python",
   "pygments_lexer": "ipython3",
   "version": "3.6.7"
  }
 },
 "nbformat": 4,
 "nbformat_minor": 2
}
